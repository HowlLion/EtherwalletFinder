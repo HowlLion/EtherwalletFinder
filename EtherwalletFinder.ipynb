{
  "cells": [
    {
      "cell_type": "markdown",
      "metadata": {
        "id": "view-in-github",
        "colab_type": "text"
      },
      "source": [
        "<a href=\"https://colab.research.google.com/github/HowlLion/EtherwalletFinder/blob/main/EtherwalletFinder.ipynb\" target=\"_parent\"><img src=\"https://colab.research.google.com/assets/colab-badge.svg\" alt=\"Open In Colab\"/></a>"
      ]
    },
    {
      "cell_type": "code",
      "execution_count": null,
      "metadata": {
        "id": "3eQ52wSTRuDM"
      },
      "outputs": [],
      "source": [
        "!pip install pydantic-settings asyncio aiohttp nest_asyncio rich tenacity prometheus_client cryptography tabulate"
      ]
    },
    {
      "cell_type": "code",
      "source": [
        "import asyncio\n",
        "import aiohttp\n",
        "import time\n",
        "from tabulate import tabulate\n",
        "\n",
        "# Set your Etherscan API key here\n",
        "ETHERSCAN_API_KEY = \"WSR7AKCAD7HR8IYTV2GZXQBYPZU7VKPY2F\"\n",
        "BATCH_SIZE = 5  # Reduce batch size if you face rate limiting issues\n",
        "MAX_SCANS = 20  # Set maximum number of wallet scans for testing purposes\n",
        "\n",
        "\n",
        "async def check_ETH_balance(session, addresses, etherscan_api_key):\n",
        "    \"\"\"Fetch ETH balances in batches.\"\"\"\n",
        "    balances = {}\n",
        "    print(\"\\n🔍 Fetching balances for scanned addresses...\")\n",
        "    start_time = time.time()  # Start measuring time\n",
        "    for i in range(0, len(addresses), BATCH_SIZE):\n",
        "        batch = addresses[i:i + BATCH_SIZE]\n",
        "        addresses_str = \",\".join(batch)\n",
        "        url = f\"https://api.etherscan.io/api?module=account&action=balancemulti&address={addresses_str}&tag=latest&apikey={etherscan_api_key}\"\n",
        "\n",
        "        async with session.get(url) as response:\n",
        "            if response.status == 200:\n",
        "                try:\n",
        "                    data = await response.json()\n",
        "                    if data.get(\"status\") == \"1\":\n",
        "                        for acc in data.get(\"result\", []):\n",
        "                            balances[acc[\"account\"]] = int(acc[\"balance\"]) / 1e18\n",
        "                    else:\n",
        "                        print(f\"⚠️ API returned error: {data}\")\n",
        "                except Exception as e:\n",
        "                    print(f\"❌ Error decoding JSON: {e}\")\n",
        "            else:\n",
        "                print(f\"❌ HTTP Error: {response.status}\")\n",
        "\n",
        "        await asyncio.sleep(1)  # Prevent API rate limiting\n",
        "    print(f\"✅ Time taken for balance fetching: {time.time() - start_time:.2f} seconds\")  # Log the time taken\n",
        "    return balances\n",
        "\n",
        "\n",
        "async def get_recent_transactions(session, etherscan_api_key, address):\n",
        "    \"\"\"Fetch new addresses from transactions.\"\"\"\n",
        "    start_time = time.time()  # Start measuring time\n",
        "    url = f\"https://api.etherscan.io/api?module=account&action=txlist&address={address}&startblock=0&endblock=99999999&sort=desc&apikey={etherscan_api_key}\"\n",
        "\n",
        "    async with session.get(url) as response:\n",
        "        try:\n",
        "            data = await response.json()\n",
        "            if data.get(\"status\") == \"1\":\n",
        "                transactions = data.get(\"result\", [])\n",
        "                print(f\"Scanned {len(transactions)} transactions for {address}.\")  # Log the number of transactions\n",
        "                return {tx[\"from\"] for tx in transactions} | {tx[\"to\"] for tx in transactions}\n",
        "        except Exception as e:\n",
        "            print(f\"❌ Error fetching transactions: {e}\")\n",
        "    print(f\"✅ Time taken for transaction scanning: {time.time() - start_time:.2f} seconds\")  # Log the time taken\n",
        "    return set()\n",
        "\n",
        "\n",
        "async def scan_wallets():\n",
        "    \"\"\"Main function to scan wallets, retrieve balances, and print results.\"\"\"\n",
        "    valid_addresses = [\"0x267be1c1d684f78cb4f6a176c4911b741e4ffdc0\", \"0x281055afc982d96fab65b3a49cac8b878184cb16\", \"0x742d35Cc6634C0532925a3b844Bc454e4438f44e\"]\n",
        "\n",
        "    async with aiohttp.ClientSession() as session:\n",
        "        # Fetch balances for scanned addresses\n",
        "        balances = await check_ETH_balance(session, valid_addresses, ETHERSCAN_API_KEY)\n",
        "\n",
        "        # Prepare data for the table\n",
        "        table_data = []\n",
        "        for address, balance in balances.items():\n",
        "            table_data.append([address, f\"{balance:.4f} ETH\"])\n",
        "\n",
        "        # Print beautified balance table using tabulate\n",
        "        print(\"\\n📊 Wallet Balances:\")\n",
        "        print(tabulate(table_data, headers=[\"Address\", \"Balance (ETH)\"], tablefmt=\"fancy_grid\"))\n",
        "\n",
        "        # Now fetch new addresses from transactions\n",
        "        all_scanned_addresses = set(valid_addresses)\n",
        "        for address in valid_addresses:\n",
        "            transactions = await get_recent_transactions(session, ETHERSCAN_API_KEY, address)\n",
        "            all_scanned_addresses.update(transactions)\n",
        "\n",
        "        # Display the total number of addresses scanned\n",
        "        print(f\"\\n🔎 Total addresses scanned: {len(all_scanned_addresses)}\")\n",
        "\n",
        "\n",
        "# Handle event loop for Jupyter Notebook\n",
        "try:\n",
        "    await scan_wallets()\n",
        "except RuntimeError:\n",
        "    asyncio.run(scan_wallets())\n"
      ],
      "metadata": {
        "colab": {
          "base_uri": "https://localhost:8080/"
        },
        "id": "CDox79BdtlbH",
        "outputId": "8d1a63db-31e1-4b5d-d3af-44a544e63327"
      },
      "execution_count": 1,
      "outputs": [
        {
          "output_type": "stream",
          "name": "stdout",
          "text": [
            "\n",
            "🔍 Fetching balances for scanned addresses...\n",
            "✅ Time taken for balance fetching: 1.14 seconds\n",
            "\n",
            "📊 Wallet Balances:\n",
            "╒════════════════════════════════════════════╤═════════════════╕\n",
            "│ Address                                    │ Balance (ETH)   │\n",
            "╞════════════════════════════════════════════╪═════════════════╡\n",
            "│ 0x267be1c1d684f78cb4f6a176c4911b741e4ffdc0 │ 55381.4252 ETH  │\n",
            "├────────────────────────────────────────────┼─────────────────┤\n",
            "│ 0x281055afc982d96fab65b3a49cac8b878184cb16 │ 0.0189 ETH      │\n",
            "├────────────────────────────────────────────┼─────────────────┤\n",
            "│ 0x742d35Cc6634C0532925a3b844Bc454e4438f44e │ 459496.1862 ETH │\n",
            "╘════════════════════════════════════════════╧═════════════════╛\n",
            "Scanned 10000 transactions for 0x267be1c1d684f78cb4f6a176c4911b741e4ffdc0.\n",
            "Scanned 523 transactions for 0x281055afc982d96fab65b3a49cac8b878184cb16.\n",
            "Scanned 10000 transactions for 0x742d35Cc6634C0532925a3b844Bc454e4438f44e.\n",
            "\n",
            "🔎 Total addresses scanned: 7418\n"
          ]
        }
      ]
    }
  ],
  "metadata": {
    "colab": {
      "provenance": [],
      "authorship_tag": "ABX9TyOFcVOaVySDW2plMXwA8gMU",
      "include_colab_link": true
    },
    "kernelspec": {
      "display_name": "Python 3",
      "name": "python3"
    },
    "language_info": {
      "name": "python"
    }
  },
  "nbformat": 4,
  "nbformat_minor": 0
}